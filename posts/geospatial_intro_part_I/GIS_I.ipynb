{
 "cells": [
  {
   "cell_type": "raw",
   "id": "43fc2127-2b4f-4d18-aa2a-38cefede06d1",
   "metadata": {},
   "source": [
    "---\n",
    "title: \"Introduction to GIS with QGIS & Python - Part I\"\n",
    "description: \"Exploring the fundamentals of geospatial data analysis\"\n",
    "format:\n",
    "    html:\n",
    "        code-fold: false\n",
    "jupyter: python3\n",
    "date: \"2023-03-05\"\n",
    "categories: [EDA, gis, qgis]\n",
    "image: unsplash.jpg\n",
    "---"
   ]
  },
  {
   "cell_type": "markdown",
   "id": "04df55cf-17bb-4211-a63a-339a291281e2",
   "metadata": {},
   "source": [
    "As a data scientist, adding data analysis of geospatial information systems (GIS) to our skill set is a smart move in today's data-driven world. The availability of free immense satellite and map data online, combined with the power of open source GIS tools, presents enormous opportunities for analyzing and visualizing geospatial data. With GIS, data scientists can enhance their data analytics and machine learning abilities, resulting in a more comprehensive understanding of complex problems such as climate change.\n",
    "\n",
    "By leveraging GIS, we can monitor and track the effects of climate change on the planet by analyzing data from a wide range of sources, such as temperature sensors, satellite imagery, and ocean currents, to provide a better understanding of its impact on our environment. This information can then be used to inform decision-making processes, such as predicting sea level rise and assessing the impact on coastal cities etc.\n",
    "\n",
    "Moreover, this also empowers common people by allowing them to answer questions about their own environment and surroundings. For example, farmers can use GIS to monitor crop health, water availability, and soil quality, while city dwellers can use it to explore the impact of urbanization on the environment. Anyone can access these tools to perform basic analysis, enabling them to become citizen scientists and contribute to the health of our planet."
   ]
  },
  {
   "cell_type": "markdown",
   "id": "2e1288cd-e3da-4de1-bd81-7bd305799c5f",
   "metadata": {},
   "source": [
    "In a series of posts, we will try to explore the basics of GIS, and progress towards addressing some interesting questions through the application of QGIS, Python and data visualization. Although I am also new to this area and currently learning, I invite you to join me on this excursion of discovery.\n",
    "\n",
    "Together, we shall learn, experiment and explore the potential of GIS to transform data analytics by combining it with geospatial information.\n",
    "\n",
    "By the end of this session, you'll be able to do this:"
   ]
  },
  {
   "cell_type": "markdown",
   "id": "b5f42dd2-2dbf-41de-ba8d-4b8074330a7c",
   "metadata": {},
   "source": [
    "::: {#fig-final_map }\n",
    "![](images/final_map.jpg)\n",
    "\n",
    "Final Map\n",
    ":::"
   ]
  },
  {
   "cell_type": "markdown",
   "id": "2609aacd-882a-454b-9440-ed2919234797",
   "metadata": {},
   "source": [
    "GIS, or `Geographic Information System`, is a tool for mapping and analyzing different types of data related to a specific location on 🌍. It allows you to visualize data on a map, such as population density, land use, or weather patterns. By combining data from various sources, we can uncover patterns, relationships, and derive insights that may not be apparent from individual datasets alone. It can be used to answer questions such as: Where are the most vulnerable areas to flooding? How has urbanization changed over time? And, where should we build a new school to ensure accessibility to the largest number of students? etc."
   ]
  },
  {
   "cell_type": "markdown",
   "id": "48fe2605-2be7-4f8d-9caa-4b7fd96d5dde",
   "metadata": {},
   "source": [
    "::: {#fig-gislayers layout-ncol=2}\n",
    "![](images/gislayers_I.jpg){#fig-a}\n",
    "\n",
    "![](images/gislayers_II.jpg){#fig-b}\n",
    "\n",
    "GIS Layers[^1]\n",
    "\n",
    ":::"
   ]
  },
  {
   "cell_type": "markdown",
   "id": "34cb794b-0f72-4dbe-b335-ed4ea62039f6",
   "metadata": {},
   "source": [
    "[^1]: [2a](https://www.researchgate.net/profile/Asma-Ibraheem/publication/305698432/figure/fig1/AS:388830134849541@1469715737031/Example-of-GIS-Data-Layers-or-Themes-Folger-2009.png) and [2b](https://www.weather.gov/images/bmx/GIS/gislayers.jpg)"
   ]
  },
  {
   "cell_type": "markdown",
   "id": "725da997-0187-4c44-8bbb-3686ea6ba494",
   "metadata": {},
   "source": [
    "::: {.callout-note appearance=\"simple\"}\n",
    "A _raster_ layer represents **continuous** data throughout the map such as elevation, temperature etc. It's made up of grid of cells and the size of these determine the resolution of the layer.\n",
    ":::"
   ]
  },
  {
   "cell_type": "markdown",
   "id": "c8467051-80eb-48b3-a45a-6cf59edeb6e6",
   "metadata": {},
   "source": [
    "::: {.callout-note appearance=\"simple\"}\n",
    "A _vector_ layer represents **discrete** data such as points, lines, polygons used typically for depiction of roads, buildings etc. This data need not be present throughout the layer.\n",
    ":::"
   ]
  },
  {
   "cell_type": "markdown",
   "id": "399eea57-c368-480c-b119-c38f6d7eaa59",
   "metadata": {},
   "source": [
    "QGIS is an open source tool to explore this layered GIS. Download it from [qgis.org](https://qgis.org/) and install it. You may be greeted with the following window. You can create & save the project by clicking `Project -> Save As` on the top left menu of the application. "
   ]
  },
  {
   "cell_type": "markdown",
   "id": "475195d0-c339-4ba7-ae3d-b6ce67e258ec",
   "metadata": {},
   "source": [
    "::: {#fig-newproject }\n",
    "![](images/01_new_project.jpg)\n",
    "\n",
    "New Project\n",
    ":::"
   ]
  },
  {
   "cell_type": "markdown",
   "id": "173f4d7d-c6c5-4428-8c4c-2014df4e593f",
   "metadata": {},
   "source": [
    "The UI is mainly divided into the following areas:\n",
    "\n",
    "- `1` contains the _Browser_ where you can access your filesystem, layers, web connections etc. (discussed later as we learn).\n",
    "- `2` contains the map layers that you have imported for this project/use case. \n",
    "- `3` is the canvas where the layers are actually visualized. \n",
    "- `4` contains all the processing algorithms that you might need to carry your analysis and also for stylizing your map data.\n",
    "\n",
    "QGIS has _much, much_ more things to offer but these four are good enough to start with."
   ]
  },
  {
   "cell_type": "markdown",
   "id": "3a6bf211-700a-4846-9a68-d7e9b5c9f4da",
   "metadata": {},
   "source": [
    "The first thing we do is get some `basemaps`."
   ]
  },
  {
   "cell_type": "markdown",
   "id": "d8ebffdb-3f19-4928-b0a6-cf3017c51493",
   "metadata": {},
   "source": [
    "::: {.callout-note appearance=\"simple\"}\n",
    "A Basemap is a fundamental layer that serves as a backdrop for additional data layers. It is akin to a blank slate upon which other data layers can be superimposed to create a complete picture and is an essential reference point for all other layers, allowing users to understand the spatial relationships and patterns between various data points. The basemap can be zoomed in or out to reveal different levels of detail, just like a traditional map.\n",
    ":::"
   ]
  },
  {
   "cell_type": "markdown",
   "id": "decff22a-d681-4c28-9a14-38cbc9d41602",
   "metadata": {},
   "source": [
    "For this, download the [qgis_basemaps.py](https://github.com/giswqs/qgis-earthengine-examples/blob/master/Basemaps/qgis_basemaps.py) (courtesy of [Asst. Prof. Qiusheng Wu](https://github.com/giswqs)) and open the python console like so:"
   ]
  },
  {
   "cell_type": "markdown",
   "id": "4b61640e-a908-4404-ae9a-cd922416b3f2",
   "metadata": {},
   "source": [
    "::: {#fig-newproject }\n",
    "![](images/python_console.jpg)\n",
    "\n",
    "Python Console\n",
    ":::"
   ]
  },
  {
   "cell_type": "markdown",
   "id": "f59795b5-5aea-42cb-b983-80c614a58418",
   "metadata": {},
   "source": [
    "Paste the downloaded script and hit run (green ▶️). You see all basemaps loaded under `XYZ Tiles` in `browser`."
   ]
  },
  {
   "cell_type": "markdown",
   "id": "0be4dd15-aa84-4b7e-8dfc-499cc1061abb",
   "metadata": {},
   "source": [
    "In order to view a basemap, simply drag & drop any of them into the _Canvas_. You will notice that the _Layers_ widget starts getting populated. Any subsequent basemaps that you drop to the canvas will get stacked here. In general, we need one basemap layer and one or more data layers for analysis. Which basemap to choose depends on the analysis you're carrying."
   ]
  },
  {
   "cell_type": "markdown",
   "id": "18cdb628-e536-4c01-b951-4a115814c2f6",
   "metadata": {},
   "source": [
    ":::{.callout-tip}\n",
    "You can uncheck the layers that you don't want or simply click on them and hit `Ctrl+D` to remove them.\n",
    ":::"
   ]
  },
  {
   "cell_type": "markdown",
   "id": "d38402d6-b5d7-4b0c-a9ba-63aff7aaf48e",
   "metadata": {},
   "source": [
    "As our initial use case, let's examine the 2020 European Air Quality dataset (head [here](https://sdi.eea.europa.eu/catalogue/srv/eng/catalog.search#/metadata/25f13624-3465-4de5-b1d3-1a479a4fe51b), hit _Direct Download_). This dataset provides concentrations for the air pollutants $NO_2$ at 1 km grid. \n",
    "\n",
    "It contains a `.tif` file along with other metadata."
   ]
  },
  {
   "cell_type": "markdown",
   "id": "43d80165-4353-4bc4-a445-345f05348f46",
   "metadata": {},
   "source": [
    "::: {.callout-note appearance=\"simple\"}\n",
    "\n",
    "TIF or TIFF (stands for \"Tagged Image File Format\"), is a file format used for storing raster images, which are digital images made up of a grid of pixels or dots. They can store images with different color depths, including grayscale, RGB, and CMYK color modes, and can be compressed or uncompressed. They can also include additional metadata such as tags, keywords, and copyright information.\n",
    "\n",
    "GeoTIFFs are similar to regular TIFF files, but with the added benefit of spatial information embedded in the file itself. This information can include the projection, coordinate system, and other metadata that is essential for accurate georeferencing. Additionally, GeoTIFF files can be used to store multiple bands of data, such as different wavelengths of light from a satellite image, which allows for more complex analysis of the data.\n",
    "\n",
    ":::"
   ]
  },
  {
   "cell_type": "markdown",
   "id": "41b09136-7229-4e60-9149-6e45967b363b",
   "metadata": {},
   "source": [
    "::: {#fig-}\n",
    "![](images/europe.jpg)\n",
    "\n",
    "Europe Air Quality 2020\n",
    ":::"
   ]
  },
  {
   "cell_type": "markdown",
   "id": "2dd7d1ce-4e34-436e-aa0f-bc2eb52e8b5f",
   "metadata": {},
   "source": [
    "To visualize the `tif` file (`no2_avg_20.tif`), simply drag & drop to the canvas. Here's what it looks like (after some styling). As you can see, it's beautiful & colorful but without context. That's where our basemap comes in, as you might have expected. You can settle on any that's appropriate for our use case here. I liked `Esri National Geographic` for this as it displays the borders of the countries more clearly. And remember, basemaps always come at the bottom. So make sure you reorder them in the _Layers_ widget accordingly."
   ]
  },
  {
   "cell_type": "markdown",
   "id": "08c53cdc-23ad-45f8-bed8-e7d35323aad8",
   "metadata": {},
   "source": [
    "The default `.tif` file shows a single band grayscale image. A band is like a channel, much like RGB of a color image. But that looks dull though it has the potential to show much more visual information. We can convert those values into quantiles and visualize those instead. For that, we will now turn our attention to the `styling` section (shown below)."
   ]
  },
  {
   "cell_type": "markdown",
   "id": "cd39e2e8-b0b9-41cd-ac48-46dc7eb3390e",
   "metadata": {},
   "source": [
    "Once you click it, a new tab opens to the right in place of the `processing toolbox` area from the figure 3 above."
   ]
  },
  {
   "cell_type": "markdown",
   "id": "ce7a66b3-ae1b-4814-9c1e-7cb246ef8c3f",
   "metadata": {},
   "source": [
    "::: {#fig-styling layout-ncol=2}\n",
    "![](images/styling.jpg){#fig-a}\n",
    "\n",
    "![](images/air_quality_styling.jpg){#fig-b}\n",
    "\n",
    "Styling\n",
    ":::"
   ]
  },
  {
   "cell_type": "markdown",
   "id": "5c3117d8-e08d-4f60-b135-5b12cde96302",
   "metadata": {},
   "source": [
    "Make sure that the `.tif` file is selected and do the following to enhance the visual information (`Fig-6(b)`):\n",
    "\n",
    "- `1` select that to _singleband pseudocolor_ from the dropdown menu\n",
    "- `2` select `discrete` interpolation\n",
    "- `3` select appropriate color map (`spectral`/`viridis` seems better)\n",
    "- `4` choose any reasonable no. of possible classes. The more you choose, the higher the gradients of a particular color and hence not _that_ perceivable to our naked eye beyond a certain limit.\n",
    "- `5` select _quantile_ mode\n",
    "- `6` hit _classify_ to force render the data again.\n",
    "- `7` click _transparency_ to change the opacity level to `~40%` so as to be able to read the underlying basemap data.\n",
    "\n",
    "Here, we just binned the values of this grayscale image and assigned a color to each bin."
   ]
  },
  {
   "cell_type": "markdown",
   "id": "6da09aaf-3cda-48f3-adc1-7ae6f2a09c88",
   "metadata": {},
   "source": [
    "::: {#fig-}\n",
    "![](images/europe_aq.jpg)\n",
    "\n",
    "Layered Map\n",
    ":::"
   ]
  },
  {
   "cell_type": "markdown",
   "id": "35fa85f9-a9b4-45d9-bef3-d14f5849529c",
   "metadata": {},
   "source": [
    "- Notice how the central europe is much more polluted than the rest.\n",
    "- Western Europe is less polluted than its eastern counterpart\n",
    "- As expected, all major capitals, popular cities are relatively very polluted."
   ]
  },
  {
   "cell_type": "markdown",
   "id": "8b977195-b2eb-48ff-a57a-3a0e60014f45",
   "metadata": {},
   "source": [
    "In a modern industrialized world, a good portion of air pollution is caused by human settlements. To find its effects, we can check where are its majot sites. Headover [here](https://www.naturalearthdata.com/downloads/10m-cultural-vectors) and download _populated places, urban areas, airports, ports_ datasets and unzip them. These contain data at 1:10 (i.e., 1cm = 100km) scale."
   ]
  },
  {
   "cell_type": "markdown",
   "id": "f0756d0e-c14e-4112-96a4-9c93424c229b",
   "metadata": {},
   "source": [
    "Drag & drop the `ne_10m_urban_areas` shapefile layer onto canvas. This shows areas of dense human habitation. "
   ]
  },
  {
   "cell_type": "markdown",
   "id": "bad9ad6e-0443-4b94-9294-86cb21fcb451",
   "metadata": {},
   "source": [
    "::: {.callout-note appearance=\"simple\"}\n",
    "A `shapefile` is a common file format used to store and exchange geospatial vector data.\n",
    ":::"
   ]
  },
  {
   "cell_type": "markdown",
   "id": "cdc541ef-d6fc-41fd-a3e0-77a529ff304f",
   "metadata": {},
   "source": [
    "You can customize the styling based on your choices and make sure it doesn't override any of the data shown from the underlying layers. Here're mine."
   ]
  },
  {
   "cell_type": "markdown",
   "id": "4306ddef-d50e-4e73-8949-1790faa3319d",
   "metadata": {},
   "source": [
    "::: {#fig-}\n",
    "![](images/urban_styling.jpg)\n",
    "\n",
    "Styling for Urban Areas\n",
    ":::"
   ]
  },
  {
   "cell_type": "markdown",
   "id": "71c13939-d8df-4cf1-91f3-059d2f81c526",
   "metadata": {},
   "source": [
    "::: {#fig-}\n",
    "![](images/urban_areas.jpg)\n",
    "\n",
    "Urban Areas\n",
    ":::"
   ]
  },
  {
   "cell_type": "markdown",
   "id": "fddea7fc-897d-41fc-887f-409f662e7c40",
   "metadata": {},
   "source": [
    "Not surprisingly, most parts of urban settlement area is under the region with worse air quality (dark red region)"
   ]
  },
  {
   "cell_type": "markdown",
   "id": "b792775e-c0c2-4162-983a-67fd820fd2e8",
   "metadata": {},
   "source": [
    "Let's now also add the _populated places_ data layer but this time from the commandline with the help of python.\n",
    "\n",
    "To do that, let's open the python console from the top menu (`plugins -> python console` or hit `Ctrl+Alt+P`). Qgis already makes an instance of its interface available under the variable `iface`. \n",
    "\n",
    "To add this vector layer to the canvas, simply run\n",
    "\n",
    "```python\n",
    "# replace the filepath accordingly\n",
    "shapefile_path = '/home/<user>/Downloads/ne_10m_populated_places/ne_10m_populated_places.shp'\n",
    "iface.addVectorLayer(shapefile_path, 'populated_places', '')\n",
    "```"
   ]
  },
  {
   "cell_type": "markdown",
   "id": "2917a266-3082-47e2-9184-74998383403f",
   "metadata": {},
   "source": [
    "You can notice that the layer is then added with the name `populated_places`. Headover to its styling to choose how those individual data points are represented."
   ]
  },
  {
   "cell_type": "markdown",
   "id": "ced4da7d-4a88-40dd-bc3e-307ac12a637f",
   "metadata": {},
   "source": [
    "Adding the other layers (i.e., `ne_10m_ports` & `ne_10m_airports`) similarly would give us our final result."
   ]
  },
  {
   "cell_type": "markdown",
   "id": "d1beacf7-8ad1-40c3-bb5b-bfa732d0afe6",
   "metadata": {},
   "source": [
    "::: {#fig-}\n",
    "![](images/final_map_2.jpg)\n",
    "\n",
    "Final Map with all layers\n",
    ":::"
   ]
  },
  {
   "cell_type": "markdown",
   "id": "54de5c9d-9216-4924-baa8-d689e801124e",
   "metadata": {},
   "source": [
    "There's so much information to unpack here (open in new tab for higher resolution) that I leave it as an exercise to the reader to derive their own insights."
   ]
  },
  {
   "cell_type": "markdown",
   "id": "b523a3b1-9254-4bb9-9b53-41b321633c7e",
   "metadata": {},
   "source": [
    "I hope this has helped you kickstart your journey into GIS analysis and understand our world a bit better. In the next post, we will see how to handle even more types of data, perform a complex processing pipeline and more.\n",
    "\n",
    "Bis dann 👋"
   ]
  }
 ],
 "metadata": {
  "kernelspec": {
   "display_name": "Python 3 (ipykernel)",
   "language": "python",
   "name": "python3"
  },
  "language_info": {
   "codemirror_mode": {
    "name": "ipython",
    "version": 3
   },
   "file_extension": ".py",
   "mimetype": "text/x-python",
   "name": "python",
   "nbconvert_exporter": "python",
   "pygments_lexer": "ipython3",
   "version": "3.13.5"
  }
 },
 "nbformat": 4,
 "nbformat_minor": 5
}
