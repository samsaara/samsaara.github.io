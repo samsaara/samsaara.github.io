{
 "cells": [
  {
   "cell_type": "raw",
   "id": "0d0d3bd4-98bd-4069-b36a-ab192f873c99",
   "metadata": {},
   "source": [
    "---\n",
    "title: \"Introduction to GIS with QGIS & Python - Part II\"\n",
    "description: \"how to load data from CSV/Text files, do filtering and connect to data servers\"\n",
    "format:\n",
    "    html:\n",
    "        code-fold: false\n",
    "jupyter: python3\n",
    "date: \"2023-03-07\"\n",
    "categories: [EDA, gis, qgis]\n",
    "toc: true\n",
    "image: unsplash.jpg\n",
    "---"
   ]
  },
  {
   "cell_type": "markdown",
   "id": "ef6bc520-bea2-42b2-875a-5b460182ac79",
   "metadata": {},
   "source": [
    "Welcome back! In our [last post](https://samsaara.github.io/posts/geospatial_intro_part_I/GIS.html), we took a look at the basics of GIS and how we can explore some of the datasets in QGIS with shapefiles, TIFF files to derive interesting insights around air quality. This post covers loading data from CSV files on disk and also directly from online using server connections."
   ]
  },
  {
   "cell_type": "markdown",
   "id": "adfc6315-a8fd-4a58-8d91-828b44cee929",
   "metadata": {},
   "source": [
    "# Load data from text files"
   ]
  },
  {
   "cell_type": "markdown",
   "id": "c917046a-3f39-4694-b613-b04b655a634a",
   "metadata": {},
   "source": [
    "For this use case, let's examine the latest satellite data where potential 🔥 events were detected in North American region. This could be a wildfire or controlled fire or anything else and may also occupy less than one pixel of the 🛰️ image depending on the resolution of that 🛰️ that's taking it. [NOAA](https://www.noaa.gov/)'s Hazard Mapping System (HMS) provide daily updated data for fire & smoke detected. Let's [download the latest data](https://www.ospo.noaa.gov/Products/land/hms.html#data). There are multiple data formats available but since we have seen shapefile in the last post, let's try `text` file now."
   ]
  },
  {
   "cell_type": "markdown",
   "id": "8f06c2dc-279a-492a-9f41-eb77f12562e1",
   "metadata": {},
   "source": [
    "::: {#fig- }\n",
    "![](images/hms.jpg)\n",
    "\n",
    "HMS data download\n",
    ":::"
   ]
  },
  {
   "cell_type": "markdown",
   "id": "c351af13-4f7e-41b4-9189-d532f7915e26",
   "metadata": {},
   "source": [
    "Let's read a few lines from the file:"
   ]
  },
  {
   "cell_type": "code",
   "execution_count": 2,
   "id": "fddcde0f-9e20-4351-a11a-4bbebc435fc2",
   "metadata": {},
   "outputs": [],
   "source": [
    "import pandas as pd"
   ]
  },
  {
   "cell_type": "code",
   "execution_count": 14,
   "id": "d38b1acf-8774-456c-97bd-8608f019705a",
   "metadata": {},
   "outputs": [],
   "source": [
    "df = pd.read_csv('data/hms_fire20230306.txt')"
   ]
  },
  {
   "cell_type": "code",
   "execution_count": 18,
   "id": "48b43726-3a34-433a-a036-a4ab1e962e80",
   "metadata": {},
   "outputs": [
    {
     "data": {
      "text/plain": [
       "(24485, 8)"
      ]
     },
     "execution_count": 18,
     "metadata": {},
     "output_type": "execute_result"
    }
   ],
   "source": [
    "df.shape"
   ]
  },
  {
   "cell_type": "code",
   "execution_count": 19,
   "id": "9f268e94-0a62-4705-acd5-60b5747df8fc",
   "metadata": {},
   "outputs": [
    {
     "data": {
      "text/html": [
       "<div>\n",
       "<style scoped>\n",
       "    .dataframe tbody tr th:only-of-type {\n",
       "        vertical-align: middle;\n",
       "    }\n",
       "\n",
       "    .dataframe tbody tr th {\n",
       "        vertical-align: top;\n",
       "    }\n",
       "\n",
       "    .dataframe thead th {\n",
       "        text-align: right;\n",
       "    }\n",
       "</style>\n",
       "<table border=\"1\" class=\"dataframe\">\n",
       "  <thead>\n",
       "    <tr style=\"text-align: right;\">\n",
       "      <th></th>\n",
       "      <th>Lon</th>\n",
       "      <th>Lat</th>\n",
       "      <th>YearDay</th>\n",
       "      <th>Time</th>\n",
       "      <th>Satellite</th>\n",
       "      <th>Method</th>\n",
       "      <th>Ecosystem</th>\n",
       "      <th>FRP</th>\n",
       "    </tr>\n",
       "  </thead>\n",
       "  <tbody>\n",
       "    <tr>\n",
       "      <th>17651</th>\n",
       "      <td>-90.261902</td>\n",
       "      <td>19.713993</td>\n",
       "      <td>2023065</td>\n",
       "      <td>2201</td>\n",
       "      <td>GOES-EAST</td>\n",
       "      <td>FDC</td>\n",
       "      <td>34</td>\n",
       "      <td>87.415</td>\n",
       "    </tr>\n",
       "    <tr>\n",
       "      <th>2835</th>\n",
       "      <td>-78.968910</td>\n",
       "      <td>21.834669</td>\n",
       "      <td>2023065</td>\n",
       "      <td>1746</td>\n",
       "      <td>GOES-EAST</td>\n",
       "      <td>FDC</td>\n",
       "      <td>93</td>\n",
       "      <td>-999.000</td>\n",
       "    </tr>\n",
       "    <tr>\n",
       "      <th>5250</th>\n",
       "      <td>-76.867294</td>\n",
       "      <td>18.226049</td>\n",
       "      <td>2023065</td>\n",
       "      <td>1840</td>\n",
       "      <td>NOAA 20</td>\n",
       "      <td>VIIRS</td>\n",
       "      <td>24</td>\n",
       "      <td>5.654</td>\n",
       "    </tr>\n",
       "    <tr>\n",
       "      <th>22280</th>\n",
       "      <td>-98.832497</td>\n",
       "      <td>19.443575</td>\n",
       "      <td>2023066</td>\n",
       "      <td>46</td>\n",
       "      <td>GOES-EAST</td>\n",
       "      <td>FDC</td>\n",
       "      <td>41</td>\n",
       "      <td>78.344</td>\n",
       "    </tr>\n",
       "    <tr>\n",
       "      <th>794</th>\n",
       "      <td>-100.092950</td>\n",
       "      <td>24.831312</td>\n",
       "      <td>2023065</td>\n",
       "      <td>910</td>\n",
       "      <td>NOAA 20</td>\n",
       "      <td>VIIRS</td>\n",
       "      <td>47</td>\n",
       "      <td>1.258</td>\n",
       "    </tr>\n",
       "    <tr>\n",
       "      <th>19110</th>\n",
       "      <td>-71.630478</td>\n",
       "      <td>19.319798</td>\n",
       "      <td>2023065</td>\n",
       "      <td>2231</td>\n",
       "      <td>GOES-EAST</td>\n",
       "      <td>FDC</td>\n",
       "      <td>91</td>\n",
       "      <td>32.565</td>\n",
       "    </tr>\n",
       "    <tr>\n",
       "      <th>23370</th>\n",
       "      <td>-83.569122</td>\n",
       "      <td>22.277122</td>\n",
       "      <td>2023066</td>\n",
       "      <td>216</td>\n",
       "      <td>GOES-EAST</td>\n",
       "      <td>FDC</td>\n",
       "      <td>93</td>\n",
       "      <td>220.716</td>\n",
       "    </tr>\n",
       "    <tr>\n",
       "      <th>1933</th>\n",
       "      <td>-98.455124</td>\n",
       "      <td>36.903248</td>\n",
       "      <td>2023065</td>\n",
       "      <td>1650</td>\n",
       "      <td>GOES-EAST</td>\n",
       "      <td>FDC</td>\n",
       "      <td>31</td>\n",
       "      <td>-999.000</td>\n",
       "    </tr>\n",
       "    <tr>\n",
       "      <th>1883</th>\n",
       "      <td>-98.248184</td>\n",
       "      <td>26.366270</td>\n",
       "      <td>2023065</td>\n",
       "      <td>1646</td>\n",
       "      <td>GOES-EAST</td>\n",
       "      <td>FDC</td>\n",
       "      <td>94</td>\n",
       "      <td>-999.000</td>\n",
       "    </tr>\n",
       "    <tr>\n",
       "      <th>3390</th>\n",
       "      <td>-81.141960</td>\n",
       "      <td>22.947918</td>\n",
       "      <td>2023065</td>\n",
       "      <td>1758</td>\n",
       "      <td>SUOMI NPP</td>\n",
       "      <td>VIIRS</td>\n",
       "      <td>93</td>\n",
       "      <td>6.468</td>\n",
       "    </tr>\n",
       "  </tbody>\n",
       "</table>\n",
       "</div>"
      ],
      "text/plain": [
       "               Lon          Lat   YearDay   Time         Satellite  \\\n",
       "17651   -90.261902    19.713993   2023065   2201         GOES-EAST   \n",
       "2835    -78.968910    21.834669   2023065   1746         GOES-EAST   \n",
       "5250    -76.867294    18.226049   2023065   1840           NOAA 20   \n",
       "22280   -98.832497    19.443575   2023066     46         GOES-EAST   \n",
       "794    -100.092950    24.831312   2023065    910           NOAA 20   \n",
       "19110   -71.630478    19.319798   2023065   2231         GOES-EAST   \n",
       "23370   -83.569122    22.277122   2023066    216         GOES-EAST   \n",
       "1933    -98.455124    36.903248   2023065   1650         GOES-EAST   \n",
       "1883    -98.248184    26.366270   2023065   1646         GOES-EAST   \n",
       "3390    -81.141960    22.947918   2023065   1758         SUOMI NPP   \n",
       "\n",
       "                  Method   Ecosystem          FRP  \n",
       "17651                FDC          34       87.415  \n",
       "2835                 FDC          93     -999.000  \n",
       "5250               VIIRS          24        5.654  \n",
       "22280                FDC          41       78.344  \n",
       "794                VIIRS          47        1.258  \n",
       "19110                FDC          91       32.565  \n",
       "23370                FDC          93      220.716  \n",
       "1933                 FDC          31     -999.000  \n",
       "1883                 FDC          94     -999.000  \n",
       "3390               VIIRS          93        6.468  "
      ]
     },
     "execution_count": 19,
     "metadata": {},
     "output_type": "execute_result"
    }
   ],
   "source": [
    "df.sample(10)"
   ]
  },
  {
   "cell_type": "markdown",
   "id": "4e32a1a9-6cfd-4149-9571-43fade00a6b8",
   "metadata": {},
   "source": [
    "As we can see, the data contains the coordinates of the location where 🔥 detected, date and time, the 🛰️ that took the picture among other data. Especially interesting is the `FRP` as that indicates the intensity of the activity. The higher the FRP, the intense the burning."
   ]
  },
  {
   "cell_type": "markdown",
   "id": "df7a199a-7db4-4619-8d65-2dec15fab9ba",
   "metadata": {},
   "source": [
    "::: {.callout-note appearance=\"simple\"}\n",
    "Fire radiative power (FRP) is a measure of heat output from a fire and is related to how quickly fuel is being consumed. It is directly related to the rate of biomass consumption during the active (flaming/smoldering) phase of a fire. Look [here](https://www.ospo.noaa.gov/Products/land/hms.html#about) for more info.\n",
    ":::"
   ]
  },
  {
   "cell_type": "markdown",
   "id": "9a4e1bac-3113-49f5-9dc9-4e66e45810d6",
   "metadata": {},
   "source": [
    "Let's look from which 🛰️ are we getting the data from:"
   ]
  },
  {
   "cell_type": "code",
   "execution_count": 21,
   "id": "efb8cdff-667e-4163-b3b4-4da03ca8bf4e",
   "metadata": {},
   "outputs": [
    {
     "data": {
      "text/plain": [
       "Index(['        Lon', '        Lat', ' YearDay', ' Time', '       Satellite',\n",
       "       '           Method', ' Ecosystem', '        FRP'],\n",
       "      dtype='object')"
      ]
     },
     "execution_count": 21,
     "metadata": {},
     "output_type": "execute_result"
    }
   ],
   "source": [
    "df.columns"
   ]
  },
  {
   "cell_type": "code",
   "execution_count": 22,
   "id": "c000fed1-5ecf-4efb-b464-89d1a41d3ac2",
   "metadata": {},
   "outputs": [],
   "source": [
    "# strip extra spaces\n",
    "df.columns = df.columns.map(str.strip)"
   ]
  },
  {
   "cell_type": "code",
   "execution_count": 23,
   "id": "a6eaf7b9-4f82-4b11-b107-643ee3972190",
   "metadata": {},
   "outputs": [
    {
     "data": {
      "text/plain": [
       "       GOES-EAST    17871\n",
       "       SUOMI NPP     3372\n",
       "         NOAA 20     3222\n",
       "       GOES-WEST       20\n",
       "Name: Satellite, dtype: int64"
      ]
     },
     "execution_count": 23,
     "metadata": {},
     "output_type": "execute_result"
    }
   ],
   "source": [
    "df.Satellite.value_counts()"
   ]
  },
  {
   "cell_type": "code",
   "execution_count": 24,
   "id": "bae50eb7-0ea3-48af-9421-9b4c9d80906f",
   "metadata": {},
   "outputs": [
    {
     "data": {
      "text/plain": [
       "       GOES-EAST    0.729875\n",
       "       SUOMI NPP    0.137717\n",
       "         NOAA 20    0.131591\n",
       "       GOES-WEST    0.000817\n",
       "Name: Satellite, dtype: float64"
      ]
     },
     "execution_count": 24,
     "metadata": {},
     "output_type": "execute_result"
    }
   ],
   "source": [
    "df.Satellite.value_counts(normalize=True)"
   ]
  },
  {
   "cell_type": "markdown",
   "id": "85cf6482-cd71-476b-a803-394c3a27b8fa",
   "metadata": {},
   "source": [
    "Almost _75%_ of the data is from one source. \n",
    "\n",
    "Let's now look at the distribution of FRP"
   ]
  },
  {
   "cell_type": "code",
   "execution_count": 26,
   "id": "f0aa2d1a-0ed4-488c-bbd2-542b1b8392c0",
   "metadata": {},
   "outputs": [],
   "source": [
    "import seaborn as sns"
   ]
  },
  {
   "cell_type": "code",
   "execution_count": 35,
   "id": "095ec369-513b-4be5-afdc-6ab0e8b0d297",
   "metadata": {},
   "outputs": [
    {
     "data": {
      "image/png": "[encoded data removed]",
      "text/plain": [
       "<Figure size 432x288 with 1 Axes>"
      ]
     },
     "metadata": {
      "needs_background": "light"
     },
     "output_type": "display_data"
    }
   ],
   "source": [
    "sns.kdeplot(df.FRP);"
   ]
  },
  {
   "cell_type": "markdown",
   "id": "8c7f4a11-f51f-4b0c-9a33-e95de9de7ae3",
   "metadata": {},
   "source": [
    "Most of the 🔥 places detected are relatively less intenseful. Let's now look at their geographical distribution. \n",
    "\n",
    "First, as usual, select a basemap from the ones we downloaded in the last post (look under XYZ Tiles in browser area). Ideally you would want to know the topography of the land in this case. So I went with `Google Terrain Hybrid`.\n",
    "\n",
    "Now, unlike shapefiles, we can't simply drag a text file to the canvas. Instead, goto `Layer-> Add Layer -> Add Delimited Text Layer`. Fill it with the information as shown."
   ]
  },
  {
   "cell_type": "markdown",
   "id": "dfc44f77-af1c-4239-b6ee-5f2eac40545d",
   "metadata": {},
   "source": [
    "::: {#fig- }\n",
    "![](images/add_txt.jpg)\n",
    "\n",
    "Load text file\n",
    ":::"
   ]
  },
  {
   "cell_type": "markdown",
   "id": "9649c014-88b8-4b93-977e-b3519be0d9ac",
   "metadata": {},
   "source": [
    ":::{.callout-hint}\n",
    "Don't forget to click **Add** before close in step `5` above.\n",
    ":::"
   ]
  },
  {
   "cell_type": "markdown",
   "id": "11bd10ab-341d-4273-8d76-3be0530e12da",
   "metadata": {},
   "source": [
    "This would stack the file over our basemap. Now this is already good... but we are still not making use of the FRP information we have. Since it's numerical data, let's try to colorize the data based on this. We already know the higher the FRP, the intense the 🔥 is. As these are continuous values, let's bin them  into discrete classes based on the histrogram we saw above."
   ]
  },
  {
   "cell_type": "markdown",
   "id": "3dd2d386-1af4-4cc0-949f-517e83aa6ad8",
   "metadata": {},
   "source": [
    "::: {#fig-styling layout-ncol=2}\n",
    "![](images/fire_styling_I.jpg){#fig-a}\n",
    "\n",
    "![](images/fire_styling_II.jpg){#fig-b}\n",
    "\n",
    "Styling\n",
    "\n",
    ":::"
   ]
  },
  {
   "cell_type": "markdown",
   "id": "0d852d27-6980-411a-980b-78a652825240",
   "metadata": {},
   "source": [
    ":::{.callout-tip}\n",
    "The toolbar in fig. 3(b) can be accessed by clicking the 🟣 circle (`Symbol` section) in fig. 3(a). Change the values as you please.\n",
    ":::"
   ]
  },
  {
   "cell_type": "markdown",
   "id": "90ebc993-83c8-4659-819a-687f06c3729c",
   "metadata": {},
   "source": [
    "::: {#fig- }\n",
    "![](images/fires.jpg)\n",
    "\n",
    "🔥 activity across Northern Americas\n",
    ":::"
   ]
  },
  {
   "cell_type": "markdown",
   "id": "8c36eaca-b6cb-4b77-bbc4-aa0c1932fb8d",
   "metadata": {},
   "source": [
    "We clearly see that most of the activity is exclusively detected in the SE part of North America with most parts of Cuba, SE Mexico & NW of Florida."
   ]
  },
  {
   "cell_type": "markdown",
   "id": "9a143282-f643-445e-9ad1-7d55475ab709",
   "metadata": {},
   "source": [
    "Now that we know the intensity of the fires, we can also actually know from which satellite a given data point has originated. To do that, we need to label each data point with the corresponding value in the `Satellite` field as we have seen earlier."
   ]
  },
  {
   "cell_type": "markdown",
   "id": "f2ac2db4-252b-409e-8e31-62ca228d3f3a",
   "metadata": {},
   "source": [
    "::: {#fig- }\n",
    "![](images/cuba_styling.jpg)\n",
    "\n",
    "Styling for Labels\n",
    ":::"
   ]
  },
  {
   "cell_type": "markdown",
   "id": "781cc79c-2ed3-46bb-ada4-f4602e08cfe6",
   "metadata": {},
   "source": [
    "::: {#fig- }\n",
    "![](images/cuba.jpg)\n",
    "\n",
    "Coordinates with Satellite names\n",
    ":::"
   ]
  },
  {
   "cell_type": "markdown",
   "id": "709669fe-8716-4b72-9579-f70ee6944374",
   "metadata": {},
   "source": [
    "You may notice that the same coordinates have the same label repeated multiple times. That got me interested. So I digged in. I suspected that it could be because of duplicate entries of the coordinates."
   ]
  },
  {
   "cell_type": "code",
   "execution_count": 54,
   "id": "0213bdda-cdb9-4795-893d-c5b243830df9",
   "metadata": {},
   "outputs": [
    {
     "data": {
      "text/plain": [
       "((24485, 8), (24485, 8))"
      ]
     },
     "execution_count": 54,
     "metadata": {},
     "output_type": "execute_result"
    }
   ],
   "source": [
    "df.shape, df.drop_duplicates().shape"
   ]
  },
  {
   "cell_type": "code",
   "execution_count": 55,
   "id": "4fac60af-53e5-44d3-9daf-65c39fe661e6",
   "metadata": {},
   "outputs": [
    {
     "data": {
      "text/plain": [
       "(9752, 8)"
      ]
     },
     "execution_count": 55,
     "metadata": {},
     "output_type": "execute_result"
    }
   ],
   "source": [
    "df.drop_duplicates(['Lat', 'Lon']).shape"
   ]
  },
  {
   "cell_type": "markdown",
   "id": "04549ae2-39d6-4335-b10a-9a368df729fc",
   "metadata": {},
   "source": [
    "Indeed it was. But only the coordinates are duplicated but not all the fields. "
   ]
  },
  {
   "cell_type": "code",
   "execution_count": 45,
   "id": "e98c778c-2bc1-4d2d-8e8d-a3380edf4e07",
   "metadata": {},
   "outputs": [
    {
     "data": {
      "text/plain": [
       "Lat        Lon       \n",
       "16.311804  -92.219566    156\n",
       "19.440290  -89.355492    149\n",
       "19.479744  -89.319229    131\n",
       "19.153973  -90.197701    120\n",
       "19.499657  -89.321320    116\n",
       "dtype: int64"
      ]
     },
     "execution_count": 45,
     "metadata": {},
     "output_type": "execute_result"
    }
   ],
   "source": [
    "df[['Lat', 'Lon']].value_counts().head()"
   ]
  },
  {
   "cell_type": "markdown",
   "id": "df6f342e-c0de-4882-b232-db757f2f74e3",
   "metadata": {},
   "source": [
    "Let's take one example and see what's changing."
   ]
  },
  {
   "cell_type": "code",
   "execution_count": 46,
   "id": "43f8d7fe-f2bb-45cc-b2ea-0fc5d4546d71",
   "metadata": {},
   "outputs": [
    {
     "data": {
      "text/html": [
       "<div>\n",
       "<style scoped>\n",
       "    .dataframe tbody tr th:only-of-type {\n",
       "        vertical-align: middle;\n",
       "    }\n",
       "\n",
       "    .dataframe tbody tr th {\n",
       "        vertical-align: top;\n",
       "    }\n",
       "\n",
       "    .dataframe thead th {\n",
       "        text-align: right;\n",
       "    }\n",
       "</style>\n",
       "<table border=\"1\" class=\"dataframe\">\n",
       "  <thead>\n",
       "    <tr style=\"text-align: right;\">\n",
       "      <th></th>\n",
       "      <th>Lon</th>\n",
       "      <th>Lat</th>\n",
       "      <th>YearDay</th>\n",
       "      <th>Time</th>\n",
       "      <th>Satellite</th>\n",
       "      <th>Method</th>\n",
       "      <th>Ecosystem</th>\n",
       "      <th>FRP</th>\n",
       "    </tr>\n",
       "  </thead>\n",
       "  <tbody>\n",
       "    <tr>\n",
       "      <th>2087</th>\n",
       "      <td>-92.219566</td>\n",
       "      <td>16.311804</td>\n",
       "      <td>2023065</td>\n",
       "      <td>1700</td>\n",
       "      <td>GOES-EAST</td>\n",
       "      <td>FDC</td>\n",
       "      <td>93</td>\n",
       "      <td>22.154</td>\n",
       "    </tr>\n",
       "    <tr>\n",
       "      <th>2393</th>\n",
       "      <td>-92.219566</td>\n",
       "      <td>16.311804</td>\n",
       "      <td>2023065</td>\n",
       "      <td>1721</td>\n",
       "      <td>GOES-EAST</td>\n",
       "      <td>FDC</td>\n",
       "      <td>93</td>\n",
       "      <td>33.626</td>\n",
       "    </tr>\n",
       "    <tr>\n",
       "      <th>2520</th>\n",
       "      <td>-92.219566</td>\n",
       "      <td>16.311804</td>\n",
       "      <td>2023065</td>\n",
       "      <td>1730</td>\n",
       "      <td>GOES-EAST</td>\n",
       "      <td>FDC</td>\n",
       "      <td>93</td>\n",
       "      <td>32.808</td>\n",
       "    </tr>\n",
       "    <tr>\n",
       "      <th>2738</th>\n",
       "      <td>-92.219566</td>\n",
       "      <td>16.311804</td>\n",
       "      <td>2023065</td>\n",
       "      <td>1741</td>\n",
       "      <td>GOES-EAST</td>\n",
       "      <td>FDC</td>\n",
       "      <td>93</td>\n",
       "      <td>31.866</td>\n",
       "    </tr>\n",
       "    <tr>\n",
       "      <th>4156</th>\n",
       "      <td>-92.219566</td>\n",
       "      <td>16.311804</td>\n",
       "      <td>2023065</td>\n",
       "      <td>1800</td>\n",
       "      <td>GOES-EAST</td>\n",
       "      <td>FDC</td>\n",
       "      <td>93</td>\n",
       "      <td>53.364</td>\n",
       "    </tr>\n",
       "    <tr>\n",
       "      <th>...</th>\n",
       "      <td>...</td>\n",
       "      <td>...</td>\n",
       "      <td>...</td>\n",
       "      <td>...</td>\n",
       "      <td>...</td>\n",
       "      <td>...</td>\n",
       "      <td>...</td>\n",
       "      <td>...</td>\n",
       "    </tr>\n",
       "    <tr>\n",
       "      <th>23682</th>\n",
       "      <td>-92.219566</td>\n",
       "      <td>16.311804</td>\n",
       "      <td>2023066</td>\n",
       "      <td>251</td>\n",
       "      <td>GOES-EAST</td>\n",
       "      <td>FDC</td>\n",
       "      <td>93</td>\n",
       "      <td>25.892</td>\n",
       "    </tr>\n",
       "    <tr>\n",
       "      <th>23704</th>\n",
       "      <td>-92.219566</td>\n",
       "      <td>16.311804</td>\n",
       "      <td>2023066</td>\n",
       "      <td>256</td>\n",
       "      <td>GOES-EAST</td>\n",
       "      <td>FDC</td>\n",
       "      <td>93</td>\n",
       "      <td>31.707</td>\n",
       "    </tr>\n",
       "    <tr>\n",
       "      <th>23759</th>\n",
       "      <td>-92.219566</td>\n",
       "      <td>16.311804</td>\n",
       "      <td>2023066</td>\n",
       "      <td>301</td>\n",
       "      <td>GOES-EAST</td>\n",
       "      <td>FDC</td>\n",
       "      <td>93</td>\n",
       "      <td>32.109</td>\n",
       "    </tr>\n",
       "    <tr>\n",
       "      <th>23786</th>\n",
       "      <td>-92.219566</td>\n",
       "      <td>16.311804</td>\n",
       "      <td>2023066</td>\n",
       "      <td>306</td>\n",
       "      <td>GOES-EAST</td>\n",
       "      <td>FDC</td>\n",
       "      <td>93</td>\n",
       "      <td>29.846</td>\n",
       "    </tr>\n",
       "    <tr>\n",
       "      <th>24006</th>\n",
       "      <td>-92.219566</td>\n",
       "      <td>16.311804</td>\n",
       "      <td>2023066</td>\n",
       "      <td>336</td>\n",
       "      <td>GOES-EAST</td>\n",
       "      <td>FDC</td>\n",
       "      <td>93</td>\n",
       "      <td>29.942</td>\n",
       "    </tr>\n",
       "  </tbody>\n",
       "</table>\n",
       "<p>156 rows × 8 columns</p>\n",
       "</div>"
      ],
      "text/plain": [
       "             Lon        Lat  YearDay  Time         Satellite  \\\n",
       "2087  -92.219566  16.311804  2023065  1700         GOES-EAST   \n",
       "2393  -92.219566  16.311804  2023065  1721         GOES-EAST   \n",
       "2520  -92.219566  16.311804  2023065  1730         GOES-EAST   \n",
       "2738  -92.219566  16.311804  2023065  1741         GOES-EAST   \n",
       "4156  -92.219566  16.311804  2023065  1800         GOES-EAST   \n",
       "...          ...        ...      ...   ...               ...   \n",
       "23682 -92.219566  16.311804  2023066   251         GOES-EAST   \n",
       "23704 -92.219566  16.311804  2023066   256         GOES-EAST   \n",
       "23759 -92.219566  16.311804  2023066   301         GOES-EAST   \n",
       "23786 -92.219566  16.311804  2023066   306         GOES-EAST   \n",
       "24006 -92.219566  16.311804  2023066   336         GOES-EAST   \n",
       "\n",
       "                  Method  Ecosystem     FRP  \n",
       "2087                 FDC         93  22.154  \n",
       "2393                 FDC         93  33.626  \n",
       "2520                 FDC         93  32.808  \n",
       "2738                 FDC         93  31.866  \n",
       "4156                 FDC         93  53.364  \n",
       "...                  ...        ...     ...  \n",
       "23682                FDC         93  25.892  \n",
       "23704                FDC         93  31.707  \n",
       "23759                FDC         93  32.109  \n",
       "23786                FDC         93  29.846  \n",
       "24006                FDC         93  29.942  \n",
       "\n",
       "[156 rows x 8 columns]"
      ]
     },
     "execution_count": 46,
     "metadata": {},
     "output_type": "execute_result"
    }
   ],
   "source": [
    "df.query('Lon==-92.219566 and Lat==16.311804')"
   ]
  },
  {
   "cell_type": "code",
   "execution_count": 56,
   "id": "bdfee1a9-efdd-4dc7-ae6d-47ffb7228d4e",
   "metadata": {},
   "outputs": [
    {
     "data": {
      "text/plain": [
       "array(['       GOES-EAST'], dtype=object)"
      ]
     },
     "execution_count": 56,
     "metadata": {},
     "output_type": "execute_result"
    }
   ],
   "source": [
    "df.query('Lon==-92.219566 and Lat==16.311804').Satellite.unique()"
   ]
  },
  {
   "cell_type": "markdown",
   "id": "bfdfca36-6550-48e1-82e2-d3a4781bad38",
   "metadata": {},
   "source": [
    "Interesting! We now have different values for `FRP` over a single coordinate but at different times."
   ]
  },
  {
   "cell_type": "code",
   "execution_count": 57,
   "id": "b8c9e3c4-bfe2-4bdc-851b-f6e81fa84613",
   "metadata": {},
   "outputs": [
    {
     "data": {
      "image/png": "[encoded data removed]",
      "text/plain": [
       "<Figure size 432x288 with 1 Axes>"
      ]
     },
     "metadata": {
      "needs_background": "light"
     },
     "output_type": "display_data"
    }
   ],
   "source": [
    "(df\n",
    " .query('Lon==-92.219566 and Lat==16.311804')    # take one location as an example\n",
    " .sort_values(['YearDay', 'Time'])               # sort it by time\n",
    " .query('FRP > 0')                               # filter out -ve values (incorrect data?)\n",
    " .reset_index(drop=True)                         # drop the index values\n",
    " .FRP\n",
    " .plot(title='FRP of a single location over time', xlabel='Time', ylabel='FRP'));"
   ]
  },
  {
   "cell_type": "markdown",
   "id": "569a4c23-9df6-4fe1-a96f-a13be62305d8",
   "metadata": {},
   "source": [
    "Nice! We now see how the `FRP` has evolved over time... it looks as if the 🔥 appears to have begun, spread, and intensified before eventually extinguishing or subsiding."
   ]
  },
  {
   "cell_type": "markdown",
   "id": "1d8ac906-4eb2-4835-be97-3ddaad86c1d6",
   "metadata": {},
   "source": [
    "## filtering a text file"
   ]
  },
  {
   "cell_type": "markdown",
   "id": "03e25417-a794-4120-b642-b15e31e9c8ed",
   "metadata": {},
   "source": [
    "Coming back to our satellite names, we can filter only for the data coming from a single satellite by right clicking on the `hms_fire20230306` layer, selecting `filter` and later entering the query like so:"
   ]
  },
  {
   "cell_type": "markdown",
   "id": "bf573ea1-5031-4db7-88b6-51263e69689e",
   "metadata": {},
   "source": [
    "::: {#fig- }\n",
    "![](images/csv_filter.jpg)\n",
    "\n",
    "Filtering a CSV/TXT file\n",
    ":::"
   ]
  },
  {
   "cell_type": "markdown",
   "id": "91269c9e-866f-4e91-a172-fff57480809e",
   "metadata": {},
   "source": [
    "- `1` - selects the field we want to filter\n",
    "- `2` - gets a few sample values from that field\n",
    "- `3` - double click on the field to enter it into the query box below. Alternatively you can type it as well.\n",
    "- `4, 5` - double click/type\n",
    "- `6` - clicking `Test` gives us how many rows that satisfy the condition. Hit `OK`\n",
    "- `7` - ignore (don't click it)\n",
    "- `8` - click `OK` to finalize the filtered data"
   ]
  },
  {
   "cell_type": "markdown",
   "id": "58404938-886d-4fe9-b372-8d415207b198",
   "metadata": {},
   "source": [
    "If you now look at the later, we only see the datapoints from the satellite we filtered."
   ]
  },
  {
   "cell_type": "markdown",
   "id": "a7660b29-9ab5-48ca-9abd-a0a6248a1451",
   "metadata": {},
   "source": [
    "::: {#fig- }\n",
    "![](images/filtered_entries.jpg)\n",
    "\n",
    "Map with filtered entries\n",
    ":::"
   ]
  },
  {
   "cell_type": "markdown",
   "id": "13c87e23-cb0a-4e7d-8568-9ed38adad802",
   "metadata": {},
   "source": [
    "## conclusion"
   ]
  },
  {
   "cell_type": "markdown",
   "id": "75558c49-128a-473f-9616-04369466aa3a",
   "metadata": {},
   "source": [
    "Now we have seen how to load text files and filtering for our desired data. You can also load [Well Known Text](http://wiki.gis.com/wiki/index.php/Well-known_text) (WKT) and other text files in the same manner. Just make sure to select the appropriate radio button while loading them."
   ]
  },
  {
   "cell_type": "markdown",
   "id": "4bc63c31-b50a-4a4d-8740-e2be3c3790d0",
   "metadata": {},
   "source": [
    "# Add WFS Connection"
   ]
  },
  {
   "cell_type": "markdown",
   "id": "f7b25721-0de2-448b-b07b-e94d8a748485",
   "metadata": {},
   "source": [
    "The Web Feature Service (WFS) protocol enables users to access and query feature data over the internet, without having to download and store the data locally. This can be particularly useful when working with large datasets or when collaborating with other users who may have different data sources or access privileges. WFS allows users to view and analyze feature data from multiple sources, combine data from different sources, and perform spatial and attribute queries on the data. This can help users to make more informed decisions and gain insights from the data that might not be apparent from a single dataset."
   ]
  },
  {
   "cell_type": "markdown",
   "id": "428de8be-cdc7-4a26-9368-10ded9c074ec",
   "metadata": {},
   "source": [
    "There are lot of publicly available WFS servers online (just google) including from universities, government organizations etc. [geoseer](https://www.geoseer.net) is one such service which provides links to those servers.\n",
    "\n",
    "For our purposes, we shall take a look at one WFS server that offers water level information in Germany. So head over [here](https://www.geoseer.net/rl.php?ql=057545d9de309f76&p=1&q=wfs%20germany) and copy the [WFS URL](https://www.pegelonline.wsv.de/geoserver/gk/wfs)."
   ]
  },
  {
   "cell_type": "markdown",
   "id": "c26c887a-4e4f-4d17-ac74-1fbdffe0087e",
   "metadata": {},
   "source": [
    "As this is a data layer, as usual, we will add a basemap layer or two. In this case, I went with `CartoDB Positron`."
   ]
  },
  {
   "cell_type": "markdown",
   "id": "d299bae7-b839-4457-8d0b-6a775efc6dd0",
   "metadata": {},
   "source": [
    "To add the WFS connection, goto `WFS/OGC API - Features` in the _browser_ area and click `New Connection`."
   ]
  },
  {
   "cell_type": "markdown",
   "id": "89681aa5-1768-42dc-b5f1-249398242976",
   "metadata": {},
   "source": [
    "::: {#fig- }\n",
    "![](images/wfs.jpg)\n",
    "\n",
    "New WFS Connection\n",
    ":::"
   ]
  },
  {
   "cell_type": "markdown",
   "id": "977d632a-d6ed-4d09-968a-5bed3d96a7ac",
   "metadata": {},
   "source": [
    "Once you have done that above, you will notice a new connection appearing under that section. Clicking on it will reveal the layer that you can now simply drag & drop to the canvas.\n",
    "\n",
    "We can right click on the added layer in the `Layers` section and select `Open Attribute Table` to reveal all its data in plaintext form. We notice that there's a field named `Value` that shows the depth of the water level. Now just like in our last use case, you can now use this field to bin its values to get the following map."
   ]
  },
  {
   "cell_type": "markdown",
   "id": "00bc9698-08f3-4d26-ad62-071ff5232008",
   "metadata": {},
   "source": [
    "::: {#fig- }\n",
    "![](images/water_levels.jpg)\n",
    "\n",
    "Water Levels in Germany\n",
    ":::"
   ]
  },
  {
   "cell_type": "markdown",
   "id": "ca9eab55-fb75-43ce-bd27-30d24932ca25",
   "metadata": {},
   "source": [
    "It shows that the levels are higher in North than in the South (most likely being it closer to the Sea) but it's troubling to see some major cities suffering with severe lack of ground water."
   ]
  },
  {
   "cell_type": "markdown",
   "id": "977b4a9c-6d5f-4fdd-b087-636eae3b6b0b",
   "metadata": {},
   "source": [
    "## Conclusion"
   ]
  },
  {
   "cell_type": "markdown",
   "id": "40c30883-0785-4905-ac4b-649397a3e8a2",
   "metadata": {},
   "source": [
    "Just like WFS, you can also add [WMS](https://en.wikipedia.org/wiki/Web_Map_Service)/[WCS](https://en.wikipedia.org/wiki/Web_Coverage_Service) services much the same way to carry out analysis without downloading data onto your disk."
   ]
  },
  {
   "cell_type": "markdown",
   "id": "d5e67a49-557c-464e-aa47-38c6434f6c7d",
   "metadata": {},
   "source": [
    "# Final Words"
   ]
  },
  {
   "cell_type": "markdown",
   "id": "ba78bb0b-1539-4813-82b0-74ccebec7162",
   "metadata": {},
   "source": [
    "In this post, we have seen how to use different types of data sources and possibly lighten our data resources on disk to perform our analysis and collaborate with others online when needed. We also performed query filtering to visualize only the data we need and how to do it in a meaningful way."
   ]
  },
  {
   "cell_type": "markdown",
   "id": "98477b76-e181-42fa-b21b-adf456ef44c8",
   "metadata": {},
   "source": [
    "In the next post, we will make a bit more use of Python & QGIS scripting to write a complex processing pipeline."
   ]
  },
  {
   "cell_type": "markdown",
   "id": "c831e4fb-0dc2-4f41-9d5a-e7c8db5cbad1",
   "metadata": {},
   "source": [
    "Thanks for reading. \n",
    "\n",
    "Auf wiedersehen 👋"
   ]
  }
 ],
 "metadata": {
  "kernelspec": {
   "display_name": "Python 3 (ipykernel)",
   "language": "python",
   "name": "python3"
  },
  "language_info": {
   "codemirror_mode": {
    "name": "ipython",
    "version": 3
   },
   "file_extension": ".py",
   "mimetype": "text/x-python",
   "name": "python",
   "nbconvert_exporter": "python",
   "pygments_lexer": "ipython3",
   "version": "3.13.5"
  }
 },
 "nbformat": 4,
 "nbformat_minor": 5
}
